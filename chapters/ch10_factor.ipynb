{
 "cells": [
  {
   "cell_type": "markdown",
   "metadata": {},
   "source": [
    "# Chapter 10: Factor Analysis"
   ]
  },
  {
   "cell_type": "code",
   "execution_count": 8,
   "metadata": {},
   "outputs": [
    {
     "name": "stdout",
     "output_type": "stream",
     "text": [
      "Once deleted, variables cannot be recovered. Proceed (y/[n])? y\n"
     ]
    }
   ],
   "source": [
    "%reset\n",
    "low_memory=False\n",
    "import numpy as np\n",
    "import pandas as pd\n",
    "%matplotlib inline\n",
    "import matplotlib.pyplot as plt\n",
    "import matplotlib.mlab as mlab\n",
    "import seaborn as sns; sns.set()\n",
    "from scipy import stats\n",
    "import math\n",
    "import os\n",
    "import random\n",
    "from sklearn.linear_model import LinearRegression\n",
    "from sklearn.model_selection import train_test_split\n",
    "from sklearn.metrics import mean_squared_error\n",
    "from sklearn.metrics import mean_absolute_error\n",
    "from sklearn.decomposition import FactorAnalysis"
   ]
  },
  {
   "cell_type": "markdown",
   "metadata": {},
   "source": [
    "## 1.1 Introduction & Motivation"
   ]
  },
  {
   "cell_type": "markdown",
   "metadata": {},
   "source": [
    "We've seen in the previous chapter how we can use Dimensionality Reduction techniques to get a better grasp on our dataset. This week we'll see another technique for dimensionality reduction: Factor Analysis.\n",
    "\n",
    "Factor Analysis, in fact, is a more general category of Data Science methods of which PCA is one. In factor analysis, we try to \"summarize\" multiple variables into 1 certain variable. For example:"
   ]
  },
  {
   "cell_type": "markdown",
   "metadata": {},
   "source": [
    "![](https://res.cloudinary.com/dchysltjf/image/upload/f_auto,q_auto:best/v1554830233/1.png)"
   ]
  },
  {
   "cell_type": "markdown",
   "metadata": {},
   "source": [
    "If this sounds familiar, that's because it is. It's extremely similar to what we have done with PCA. The two main goals of factor analysis are the following:\n",
    "* Reducing the number of observed variables\n",
    "* Finding ubobservable variables\n",
    "\n",
    "In essence, PCA is a specific type of Factor Analysis. This also means that it's more specific. In general, PCA requires much more assumptions on our dataset, and only delivers non interpretable components, whereas FA allows us to interpret the factors. PCA is focused on reducing the amount of dimensions in our dataset while still preserving all information. FA is focused on finding variables that we can't initially observe."
   ]
  },
  {
   "cell_type": "markdown",
   "metadata": {},
   "source": [
    "## 1.2 Problem Setting"
   ]
  },
  {
   "cell_type": "markdown",
   "metadata": {},
   "source": [
    "Our setting is the same as in the previous chapter:"
   ]
  },
  {
   "cell_type": "code",
   "execution_count": 9,
   "metadata": {},
   "outputs": [
    {
     "data": {
      "text/plain": [
       "(1797, 64)"
      ]
     },
     "execution_count": 9,
     "metadata": {},
     "output_type": "execute_result"
    }
   ],
   "source": [
    "from sklearn.datasets import load_digits\n",
    "digits = load_digits()\n",
    "digits.data.shape"
   ]
  },
  {
   "cell_type": "markdown",
   "metadata": {},
   "source": [
    "## 1.3 Model"
   ]
  },
  {
   "cell_type": "markdown",
   "metadata": {},
   "source": [
    "### 1.3.1 Model"
   ]
  },
  {
   "cell_type": "markdown",
   "metadata": {},
   "source": [
    "Remember the way PCA reduced the number of variables: it goes looking for the highest variance among our dataset. It then puts all this into a first component. The variance explained by this factor is then removed from the dataset. This process is repeated until the desired amount of components has been constructed.\n",
    "\n",
    "As Factor Analysis has the main objective of discovering unobserved variables, it works a little bit different. Factor Analysis goes looking for variables which are correlated. If variables are correlated highly, they are put together in a factor. After this has happened, factors can still switch the variables they contain in order to try to abide by the rule that *the factors must not be correlated*. By doing this, we hope each factor to contain as much information as possible."
   ]
  },
  {
   "cell_type": "markdown",
   "metadata": {},
   "source": [
    "### 1.3.2 Model Estimation"
   ]
  },
  {
   "cell_type": "markdown",
   "metadata": {},
   "source": [
    "##### Question 1: In the previous chapter, we saw the Scree plot and the elbow method to detect what the optimal number of variables is. Construct the scree plot and determine the optimal amount of factors for our dataset."
   ]
  },
  {
   "cell_type": "code",
   "execution_count": null,
   "metadata": {},
   "outputs": [],
   "source": []
  },
  {
   "cell_type": "markdown",
   "metadata": {},
   "source": [
    "Luckily, sklearn comes with this algorithm build in. Let's try this out by fitting the model for 7 components:"
   ]
  },
  {
   "cell_type": "code",
   "execution_count": 12,
   "metadata": {},
   "outputs": [
    {
     "data": {
      "text/plain": [
       "(1797, 7)"
      ]
     },
     "execution_count": 12,
     "metadata": {},
     "output_type": "execute_result"
    }
   ],
   "source": [
    "transformer = FactorAnalysis(n_components=7, random_state=0)\n",
    "X_transformed = transformer.fit_transform(digits.data)\n",
    "X_transformed.shape"
   ]
  },
  {
   "cell_type": "markdown",
   "metadata": {},
   "source": [
    "We can clearly see that we've indeed discovered 7 components. However, we don't really know yet just how good they are, and what they represent. Let's take a look at the components:"
   ]
  },
  {
   "cell_type": "code",
   "execution_count": 16,
   "metadata": {},
   "outputs": [
    {
     "name": "stdout",
     "output_type": "stream",
     "text": [
      "[[-4.17469616e-24  5.02577078e-01  4.53311760e+00  2.63289978e+00\n",
      "  -1.51699869e-01  4.32323078e-01  1.21382881e-02 -7.14557888e-02\n",
      "   4.09419003e-03  2.05001741e+00  3.75028163e+00 -1.21025910e+00\n",
      "   1.96019078e-01  7.62738938e-01 -3.19641199e-01 -1.04646745e-01\n",
      "  -4.34023500e-06  1.18355749e+00 -5.89688525e-01 -2.20614780e+00\n",
      "   1.59528558e+00 -3.00455192e-01 -8.70776785e-01 -6.89139533e-02\n",
      "  -9.95228390e-04 -6.28815395e-01 -2.43700889e+00  6.66691032e-01\n",
      "   1.64493510e+00 -1.28722071e+00 -9.59180654e-01 -3.32476347e-03\n",
      "  -0.00000000e+00 -1.59123526e+00 -3.14596956e+00 -3.56643018e-01\n",
      "  -6.29465818e-01 -1.87877413e+00 -7.91780932e-01 -0.00000000e+00\n",
      "  -1.39270375e-02 -1.08335169e+00 -2.60395724e+00 -1.10301519e+00\n",
      "  -1.58739684e+00 -1.30938955e+00 -2.12753191e-01 -1.90849484e-02\n",
      "  -9.50512402e-03  3.10039395e-01  1.53494455e+00 -2.49467720e-02\n",
      "  -6.31571499e-01  5.62856328e-01  4.81686404e-01 -1.71975971e-03\n",
      "  -3.59073940e-04  4.70877934e-01  4.83125099e+00  2.43816050e+00\n",
      "  -6.73072687e-01 -6.80905869e-03  4.24096072e-01  1.52204730e-01]\n",
      " [-6.59247549e-23  3.62989036e-02  1.18077053e-01 -5.34311972e-01\n",
      "   1.38786683e+00  3.23697243e+00  1.85840739e+00  3.21331205e-01\n",
      "  -2.45250035e-03 -2.65974495e-01 -3.07792320e-01 -3.38793958e-01\n",
      "   3.58416171e-01  2.44944789e+00  2.16042068e+00  2.50173493e-01\n",
      "  -1.50317345e-03 -3.65408517e-01 -8.45619975e-01 -6.21509894e-01\n",
      "   1.11712881e-01  1.98771488e+00  1.37286839e+00  8.78067823e-02\n",
      "   1.30576249e-04  4.70715192e-02 -3.14670521e-01  2.11606011e-01\n",
      "   1.09443602e+00  1.99414464e+00  1.03965454e+00  3.44521456e-03\n",
      "   0.00000000e+00  3.08942405e-02  3.69304283e-02  7.85626860e-01\n",
      "   1.14194822e+00  2.04491339e-01 -2.45187304e-01  0.00000000e+00\n",
      "   1.14308056e-03 -2.53520410e-02 -1.50471563e+00  5.76902384e-01\n",
      "   2.62956404e+00 -8.61751593e-01 -2.67934344e+00 -5.62566399e-02\n",
      "   1.45666274e-03 -5.21239092e-02 -2.26787119e+00 -3.63148554e-01\n",
      "   1.32255539e+00 -3.12501013e+00 -3.82776063e+00 -3.12170755e-01\n",
      "   3.45478930e-04  5.32120079e-02  4.09154908e-01 -3.67626554e-01\n",
      "  -3.08546328e+00 -4.41068689e+00 -2.18041501e+00 -4.12967310e-01]\n",
      " [-4.96546712e-23 -1.04329024e-01  1.06226866e-01  1.81450316e-01\n",
      "   4.40830316e-01  8.22495657e-01  2.67453579e-01  5.25782754e-02\n",
      "  -1.96039285e-03  7.89741810e-03  1.89007319e+00 -7.52939891e-01\n",
      "  -1.01734678e+00  1.70423062e+00  5.21532619e-01  7.40693842e-02\n",
      "  -9.83984947e-04  8.23251623e-01  2.37758519e+00 -2.12723802e+00\n",
      "  -2.63019158e+00  1.93691721e+00  1.15905225e+00  3.91949326e-02\n",
      "  -6.94152698e-04  1.21578118e+00  1.97246808e+00 -1.65511569e+00\n",
      "  -2.03545092e+00  2.30210455e+00  1.55252458e+00  2.07893832e-03\n",
      "   0.00000000e+00  9.20108719e-01  2.87545180e-01 -3.47012438e+00\n",
      "  -3.23264641e+00  2.48655204e+00  1.81467156e+00  0.00000000e+00\n",
      "  -2.09548558e-04  3.36534962e-01 -2.57494236e-01 -4.15777822e+00\n",
      "  -3.14985034e+00  2.56840381e+00  1.63438354e+00 -1.74836736e-02\n",
      "   2.86365601e-05  4.87955676e-02  5.95470239e-01 -2.19627394e+00\n",
      "  -9.92405528e-01  2.13510188e+00 -1.09617887e-01 -2.16214377e-01\n",
      "  -6.36154311e-04 -1.12839299e-01  1.84196659e-02  7.12719179e-01\n",
      "   6.28907428e-01 -2.92239446e-01 -1.14727170e+00 -3.92343096e-01]\n",
      " [-1.13760490e-22  1.56690923e-01  4.92401173e-01  6.02666230e-01\n",
      "  -5.73611204e-01 -1.47191855e+00 -4.31725840e-01 -1.00861565e-01\n",
      "  -1.23591625e-03  1.49009545e-02  3.77641690e-01  1.37618114e+00\n",
      "  -9.23329756e-01 -2.84146942e+00 -9.19932462e-01 -7.55224698e-02\n",
      "   3.10478123e-04  3.59544925e-01  2.04598197e+00  6.56108149e-01\n",
      "  -2.14990132e+00 -2.87601930e+00 -2.99072392e-01 -7.17902784e-03\n",
      "   1.47373728e-03  1.31635957e+00  2.94705879e+00 -8.74421246e-01\n",
      "  -2.84923612e+00 -1.81905825e+00  4.52850427e-01  7.60614630e-04\n",
      "  -0.00000000e+00  2.03033108e+00  3.65663328e+00  1.16044152e+00\n",
      "  -5.95230540e-01 -9.65297744e-01  2.51710521e-01 -0.00000000e+00\n",
      "   1.54896019e-02  1.29203977e+00  3.20280218e+00  2.28125560e+00\n",
      "   9.15031129e-01 -6.53575393e-01 -5.27776904e-01 -6.36727765e-03\n",
      "   8.38726702e-03  2.82447870e-01  1.23252158e+00  1.39753719e+00\n",
      "   9.71352685e-01 -1.45004174e+00 -1.06457282e+00 -1.05400929e-01\n",
      "  -1.59732370e-04  1.85798187e-01  5.66429099e-01  4.71022547e-01\n",
      "  -6.97062626e-01 -2.19326797e+00 -8.57691875e-01 -2.39287083e-01]\n",
      " [-1.40198472e-23 -6.11833235e-02 -2.83973194e-01  6.69936708e-01\n",
      "  -3.07957954e-01  8.35551900e-01  1.23541511e+00  3.48095801e-01\n",
      "   2.70973810e-03  2.25138789e-01  1.43135698e+00  1.02685985e+00\n",
      "  -1.44327901e+00 -8.06886831e-01  1.06013543e+00  2.63653299e-01\n",
      "   4.86735158e-03  1.09184606e+00  2.29730048e+00 -7.49232158e-01\n",
      "  -2.17727469e+00 -1.44576230e+00  3.14530299e-01  7.10270054e-02\n",
      "   2.47360172e-03  6.38341382e-01  1.20461029e+00 -2.88347347e-01\n",
      "  -6.93440633e-01 -1.06748649e+00 -5.67826392e-01  2.26971024e-03\n",
      "   0.00000000e+00 -7.68350968e-01 -5.27776826e-01  6.92645184e-01\n",
      "   6.37563947e-01 -9.99434596e-01 -7.81534970e-01  0.00000000e+00\n",
      "  -2.10313579e-02 -1.19669548e+00 -1.54268366e+00  1.72621955e-01\n",
      "   4.40990981e-01 -1.34360458e+00 -8.97222058e-02  2.75850412e-02\n",
      "  -1.96971321e-02 -5.19462616e-01 -8.78480267e-01  1.18833379e+00\n",
      "  -3.69762419e-01 -1.10656743e+00  9.94516866e-01  2.14591591e-01\n",
      "  -8.95777239e-04 -6.81292614e-02 -3.91476284e-01  1.13181732e+00\n",
      "  -4.65125651e-01  2.16764191e-01  9.97067183e-01  3.63170590e-01]\n",
      " [-5.73664627e-23  2.43912958e-01  4.87747754e-01 -1.52883328e+00\n",
      "  -8.14307787e-01  1.62782221e-01  8.09208413e-01  2.86203105e-01\n",
      "  -3.90321336e-03  6.73947184e-02 -1.77028189e+00 -3.74094789e-01\n",
      "  -5.20078542e-01 -2.09286136e+00  7.64341483e-01  3.35033803e-01\n",
      "  -4.48933078e-03 -5.34839121e-01 -7.07250108e-01  1.52986924e+00\n",
      "  -6.70462229e-01 -2.16385791e+00  8.23390485e-01  1.69042257e-01\n",
      "  -2.06682612e-03 -6.10305763e-02  8.16440105e-01  9.18699881e-01\n",
      "  -6.91840747e-01 -1.74748815e-01  3.01871334e-01  8.98548691e-03\n",
      "  -0.00000000e+00  2.58952324e-01  2.97034397e-01 -3.98499955e-01\n",
      "   3.58819499e-02  1.03661958e+00 -1.41812277e-01 -0.00000000e+00\n",
      "   1.30957865e-02  2.17882644e-01 -9.79057772e-01 -1.09991413e+00\n",
      "   3.79418538e-01  1.16780114e+00  1.99006007e-01  1.11357038e-02\n",
      "   1.38377973e-02  2.10135385e-01 -9.30192895e-01 -1.80540973e+00\n",
      "   6.67579582e-01  7.26857848e-01  6.03567434e-01  1.16453357e-01\n",
      "  -2.00330132e-04  2.50639007e-01  4.25931313e-01 -1.35293029e+00\n",
      "   6.10047568e-01  8.36745728e-01  5.26091850e-01  1.83803513e-01]\n",
      " [-3.28744081e-23 -4.58545513e-02  1.70746902e-02  1.03886698e+00\n",
      "  -4.04306613e-01 -1.05628119e+00  3.07345177e-01  3.29734312e-01\n",
      "  -6.68098519e-03 -4.23700462e-01 -9.88153149e-02  3.44732483e-01\n",
      "  -4.45627302e-01 -8.52540820e-02  6.85003032e-01  2.49658482e-01\n",
      "  -5.37250793e-03 -1.16927808e+00 -1.42924136e+00 -1.18271036e+00\n",
      "  -7.96368319e-01  7.34607997e-01  8.55628644e-01  8.33871917e-02\n",
      "  -3.20815672e-03 -1.18015976e+00 -2.13239232e+00 -1.90869813e+00\n",
      "  -8.75766880e-01  8.26832406e-01  1.05236817e+00  5.33552769e-03\n",
      "  -0.00000000e+00  1.46956041e-01  6.16393992e-01  3.15283519e-01\n",
      "  -1.26283928e-01  5.56096412e-01  9.33886090e-01 -0.00000000e+00\n",
      "   5.81318278e-03  5.28047826e-01  1.91710211e+00  1.25438666e+00\n",
      "  -7.66065389e-01 -1.01107159e+00  8.37521600e-01  4.30364180e-02\n",
      "   1.01207967e-02  1.44142030e-01  1.23754892e+00  1.36064873e+00\n",
      "  -1.22148514e+00 -9.12574444e-01  9.65969853e-01  1.09893229e-01\n",
      "  -1.67859958e-04 -3.22548106e-02  1.52788425e-01  6.00356358e-01\n",
      "  -8.37208647e-01 -1.36541317e-02  4.98978306e-01  2.08258030e-02]]\n",
      "(7, 64)\n"
     ]
    }
   ],
   "source": [
    "print(transformer.components_)\n",
    "print(transformer.components_.shape)"
   ]
  },
  {
   "cell_type": "markdown",
   "metadata": {},
   "source": [
    "We see that we've gotten returned 7 factors with 64 numbers each: these are the values of our original variables where our factors are situated."
   ]
  },
  {
   "cell_type": "markdown",
   "metadata": {},
   "source": [
    "##### Question 2: Go looking in the documentation how you can determine the score of our model. What is the score for 7 factors?"
   ]
  },
  {
   "cell_type": "markdown",
   "metadata": {},
   "source": [
    "##### Question 3: Fit the factor analysis for the optimal number of components. Also calculate the score. Is the model indeed better than with 7 factors?"
   ]
  },
  {
   "cell_type": "markdown",
   "metadata": {},
   "source": [
    "## 1.4 Exercises"
   ]
  },
  {
   "cell_type": "markdown",
   "metadata": {},
   "source": [
    "##### Question 1: See section 1.3.3\n",
    "##### Question 2: See section 1.3.3\n",
    "##### Question 3: See section 1.3.3\n",
    "##### Question 4: Compare the PCA and the FA of the digits dataset. Do you find the equal number of factors in each best model version? Can you explain why this is? \n",
    "##### Question 5: Compare the PCA and the FA of the digits dataset. Which model do you think is the best? Why is this?"
   ]
  },
  {
   "cell_type": "code",
   "execution_count": null,
   "metadata": {},
   "outputs": [],
   "source": []
  }
 ],
 "metadata": {
  "kernelspec": {
   "display_name": "Python 3",
   "language": "python",
   "name": "python3"
  },
  "language_info": {
   "codemirror_mode": {
    "name": "ipython",
    "version": 3
   },
   "file_extension": ".py",
   "mimetype": "text/x-python",
   "name": "python",
   "nbconvert_exporter": "python",
   "pygments_lexer": "ipython3",
   "version": "3.7.6"
  }
 },
 "nbformat": 4,
 "nbformat_minor": 4
}
